{
  "nbformat": 4,
  "nbformat_minor": 0,
  "metadata": {
    "colab": {
      "provenance": [],
      "authorship_tag": "ABX9TyOcgQUkD7EXTPbVVhqmMD5M",
      "include_colab_link": true
    },
    "kernelspec": {
      "name": "python3",
      "display_name": "Python 3"
    },
    "language_info": {
      "name": "python"
    }
  },
  "cells": [
    {
      "cell_type": "markdown",
      "metadata": {
        "id": "view-in-github",
        "colab_type": "text"
      },
      "source": [
        "<a href=\"https://colab.research.google.com/github/vincenttirta/intro_to_ml/blob/main/3_Split_Dataset.ipynb\" target=\"_parent\"><img src=\"https://colab.research.google.com/assets/colab-badge.svg\" alt=\"Open In Colab\"/></a>"
      ]
    },
    {
      "cell_type": "code",
      "execution_count": 3,
      "metadata": {
        "id": "P3HlBzB-YylG",
        "colab": {
          "base_uri": "https://localhost:8080/"
        },
        "outputId": "74952d43-2514-465a-d88a-60d078d5c458"
      },
      "outputs": [
        {
          "output_type": "stream",
          "name": "stdout",
          "text": [
            "random_state ditentukan\n",
            "[2, 8, 4]\n",
            "[2, 8, 4]\n",
            "[2, 8, 4]\n",
            "random_state tidak ditentukan\n",
            "[5, 0, 4]\n",
            "[8, 5, 7]\n",
            "[5, 8, 1]\n"
          ]
        }
      ],
      "source": [
        "from sklearn.model_selection import train_test_split\n",
        "\n",
        "X_data = range(10)\n",
        "y_data = range(10)\n",
        "\n",
        "print(\"random_state ditentukan\")\n",
        "for i in range(3):\n",
        "    X_train, X_test, y_train, y_test = train_test_split(X_data, y_data, test_size = 0.3, random_state = 0)\n",
        "    print(y_test)\n",
        "\n",
        "\n",
        "print(\"random_state tidak ditentukan\")\n",
        "for i in range(3):\n",
        "    X_train, X_test, y_train, y_test = train_test_split(X_data, y_data, test_size = 0.3, random_state = None)\n",
        "    print(y_test)"
      ]
    }
  ]
}